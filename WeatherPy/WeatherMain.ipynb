{
 "cells": [
  {
   "cell_type": "code",
   "execution_count": 1,
   "metadata": {},
   "outputs": [],
   "source": [
    "# Dependencies and Setup\n",
    "import matplotlib.pyplot as plt\n",
    "import pandas as pd\n",
    "import numpy as np\n",
    "import requests\n",
    "import time\n",
    "from scipy.stats import linregress\n",
    "\n",
    "# Import API key\n",
    "from api_keys import weather_api_key\n",
    "\n",
    "# Incorporated citipy to determine city based on latitude and longitude\n",
    "from citipy import citipy"
   ]
  },
  {
   "cell_type": "code",
   "execution_count": 2,
   "metadata": {},
   "outputs": [],
   "source": [
    "# Output File (CSV)\n",
    "output_data_file = \"output_data/cities.csv\"\n",
    "\n",
    "# Range of latitudes and longitudes\n",
    "lat_range = (-90, 90)\n",
    "lng_range = (-180, 180) "
   ]
  },
  {
   "cell_type": "code",
   "execution_count": 3,
   "metadata": {},
   "outputs": [
    {
     "data": {
      "text/plain": [
       "630"
      ]
     },
     "execution_count": 3,
     "metadata": {},
     "output_type": "execute_result"
    }
   ],
   "source": [
    "# List for holding lat_lngs and cities\n",
    "lat_lngs = []\n",
    "cities = []\n",
    "\n",
    "# Create a set of random lat and lng combinations\n",
    "lats = np.random.uniform(lat_range[0], lat_range[1], size=1500)\n",
    "lngs = np.random.uniform(lng_range[0], lng_range[1], size=1500)\n",
    "lat_lngs = zip(lats, lngs)\n",
    "\n",
    "# Identify nearest city for each lat, lng combination\n",
    "for lat_lng in lat_lngs:\n",
    "    city = citipy.nearest_city(lat_lng[0], lat_lng[1]).city_name\n",
    "    \n",
    "    # If the city is unique, then add it to a our cities list\n",
    "    if city not in cities:\n",
    "        cities.append(city)\n",
    "\n",
    "# Print the city count to confirm sufficient count\n",
    "len(cities)"
   ]
  },
  {
   "cell_type": "code",
   "execution_count": 4,
   "metadata": {},
   "outputs": [],
   "source": [
    "#Lists to be filled with values\n",
    "url = \"http://api.openweathermap.org/data/2.5/weather?units=Imperial&APPID=\" + weather_api_key \n",
    "diffcity = []\n",
    "Lat = []\n",
    "Lng = []\n",
    "MaxTemp = []\n",
    "Humidity = []\n",
    "Cloudiness = []\n",
    "WindSpeed = []\n",
    "Date = [] \n",
    "country = []"
   ]
  },
  {
   "cell_type": "code",
   "execution_count": 5,
   "metadata": {},
   "outputs": [
    {
     "name": "stdout",
     "output_type": "stream",
     "text": [
      "Processing Record 1 in set 0 for city ixtapa\n",
      "Processing Record 2 in set 0 for city hasaki\n",
      "Processing Record 3 in set 0 for city jiazi\n",
      "Processing Record 4 in set 0 for city atuona\n",
      "Processing Record 5 in set 0 for city berdigestyakh\n",
      "Processing Record 6 in set 0 for city port elizabeth\n",
      "Processing Record 7 in set 0 for city rikitea\n",
      "Processing Record 8 in set 0 for city vuktyl\n",
      "Processing Record 9 in set 0 for city ushuaia\n",
      "Processing Record 10 in set 0 for city saskylakh\n",
      "Processing Record 11 in set 0 for city port lincoln\n",
      "Processing Record 12 in set 0 for city bluff\n",
      "Processing Record 13 in set 0 for city hithadhoo\n",
      "Processing Record 14 in set 0 for city puerto ayora\n",
      "Processing Record 15 in set 0 for city along\n",
      "Processing Record 16 in set 0 for city marzuq\n",
      "Processing Record 17 in set 0 for city nizwa\n",
      "Processing Record 18 in set 0 for city severo-kurilsk\n",
      "Processing Record 19 in set 0 for city keith\n",
      "Processing Record 20 in set 0 for city tasiilaq\n",
      "Processing Record 21 in set 0 for city aswan\n",
      "Processing Record 22 in set 0 for city busselton\n",
      "Processing Record 23 in set 0 for city kalmunai\n",
      "Processing Record 24 in set 0 for city yellowknife\n",
      "Processing Record 25 in set 0 for city tarko-sale\n",
      "Processing Record 26 in set 0 for city siguiri\n",
      "Processing Record 27 in set 0 for city vaitupu\n",
      "city not found\n",
      "Processing Record 28 in set 0 for city butaritari\n",
      "Processing Record 29 in set 0 for city hermanus\n",
      "Processing Record 30 in set 0 for city mweka\n",
      "Processing Record 31 in set 0 for city mys shmidta\n",
      "city not found\n",
      "Processing Record 32 in set 0 for city cape town\n",
      "Processing Record 33 in set 0 for city aubenas\n",
      "Processing Record 34 in set 0 for city kodiak\n",
      "Processing Record 35 in set 0 for city tautira\n",
      "Processing Record 36 in set 0 for city charters towers\n",
      "Processing Record 37 in set 0 for city castro\n",
      "Processing Record 38 in set 0 for city nome\n",
      "Processing Record 39 in set 0 for city faanui\n",
      "Processing Record 40 in set 0 for city orocue\n",
      "Processing Record 41 in set 0 for city qaanaaq\n",
      "Processing Record 42 in set 0 for city nikolskoye\n",
      "Processing Record 43 in set 0 for city udachnyy\n",
      "Processing Record 44 in set 0 for city jalu\n",
      "Processing Record 45 in set 0 for city karachi\n",
      "Processing Record 46 in set 0 for city buriti\n",
      "Processing Record 47 in set 0 for city mataura\n",
      "Processing Record 48 in set 0 for city thompson\n",
      "Processing Record 49 in set 0 for city kaohsiung\n",
      "Processing Record 50 in set 0 for city beloha\n",
      "Processing Record 0 in set 1 for city mandalgovi\n",
      "Processing Record 1 in set 1 for city kapaa\n",
      "Processing Record 2 in set 1 for city hobart\n",
      "Processing Record 3 in set 1 for city san matias\n",
      "Processing Record 4 in set 1 for city goderich\n",
      "Processing Record 5 in set 1 for city yumen\n",
      "Processing Record 6 in set 1 for city sisimiut\n",
      "Processing Record 7 in set 1 for city labuhan\n",
      "Processing Record 8 in set 1 for city leningradskiy\n",
      "Processing Record 9 in set 1 for city batyrevo\n",
      "Processing Record 10 in set 1 for city jamestown\n",
      "Processing Record 11 in set 1 for city atar\n",
      "Processing Record 12 in set 1 for city porto nacional\n",
      "Processing Record 13 in set 1 for city neiafu\n",
      "Processing Record 14 in set 1 for city norman wells\n",
      "Processing Record 15 in set 1 for city muros\n",
      "Processing Record 16 in set 1 for city jabiru\n",
      "city not found\n",
      "Processing Record 17 in set 1 for city ranong\n",
      "Processing Record 18 in set 1 for city vanavara\n",
      "Processing Record 19 in set 1 for city atasu\n",
      "Processing Record 20 in set 1 for city vaini\n",
      "Processing Record 21 in set 1 for city klyuchi\n",
      "Processing Record 22 in set 1 for city saint-augustin\n",
      "Processing Record 23 in set 1 for city illoqqortoormiut\n",
      "city not found\n",
      "Processing Record 24 in set 1 for city kaitangata\n",
      "Processing Record 25 in set 1 for city santa maria\n",
      "Processing Record 26 in set 1 for city chokurdakh\n",
      "Processing Record 27 in set 1 for city krasnovishersk\n",
      "Processing Record 28 in set 1 for city kosh-agach\n",
      "Processing Record 29 in set 1 for city barrow\n",
      "Processing Record 30 in set 1 for city torbay\n",
      "Processing Record 31 in set 1 for city lebu\n",
      "Processing Record 32 in set 1 for city dikson\n",
      "Processing Record 33 in set 1 for city bell ville\n",
      "Processing Record 34 in set 1 for city tiksi\n",
      "Processing Record 35 in set 1 for city chute-aux-outardes\n",
      "Processing Record 36 in set 1 for city grindavik\n",
      "Processing Record 37 in set 1 for city thinadhoo\n",
      "Processing Record 38 in set 1 for city victoria\n",
      "Processing Record 39 in set 1 for city taolanaro\n",
      "city not found\n",
      "Processing Record 40 in set 1 for city bunia\n",
      "Processing Record 41 in set 1 for city kununurra\n",
      "Processing Record 42 in set 1 for city jumla\n",
      "Processing Record 43 in set 1 for city baisha\n",
      "Processing Record 44 in set 1 for city plettenberg bay\n",
      "Processing Record 45 in set 1 for city khatanga\n",
      "Processing Record 46 in set 1 for city airai\n",
      "Processing Record 47 in set 1 for city east london\n",
      "Processing Record 48 in set 1 for city mar del plata\n",
      "Processing Record 49 in set 1 for city arraial do cabo\n",
      "Processing Record 50 in set 1 for city karera\n",
      "Processing Record 0 in set 2 for city luchegorsk\n",
      "Processing Record 1 in set 2 for city salalah\n",
      "Processing Record 2 in set 2 for city ballina\n",
      "Processing Record 3 in set 2 for city dustlik\n",
      "Processing Record 4 in set 2 for city isangel\n",
      "Processing Record 5 in set 2 for city port alfred\n",
      "Processing Record 6 in set 2 for city chernyshevskiy\n",
      "Processing Record 7 in set 2 for city kamaishi\n",
      "Processing Record 8 in set 2 for city srednekolymsk\n",
      "Processing Record 9 in set 2 for city portland\n",
      "Processing Record 10 in set 2 for city bokoro\n",
      "Processing Record 11 in set 2 for city mabaruma\n",
      "Processing Record 12 in set 2 for city praxedis guerrero\n",
      "Processing Record 13 in set 2 for city portobelo\n",
      "Processing Record 14 in set 2 for city hami\n",
      "Processing Record 15 in set 2 for city avarua\n",
      "Processing Record 16 in set 2 for city kijang\n",
      "Processing Record 17 in set 2 for city cabo san lucas\n",
      "Processing Record 18 in set 2 for city namatanai\n",
      "Processing Record 19 in set 2 for city tupik\n",
      "Processing Record 20 in set 2 for city punta arenas\n",
      "Processing Record 21 in set 2 for city show low\n",
      "Processing Record 22 in set 2 for city grand river south east\n",
      "city not found\n",
      "Processing Record 23 in set 2 for city samarai\n",
      "Processing Record 24 in set 2 for city ondorhaan\n",
      "city not found\n",
      "Processing Record 25 in set 2 for city belushya guba\n",
      "city not found\n",
      "Processing Record 26 in set 2 for city acajutla\n",
      "Processing Record 27 in set 2 for city ribeira grande\n",
      "Processing Record 28 in set 2 for city holsted\n",
      "Processing Record 29 in set 2 for city mayo\n",
      "Processing Record 30 in set 2 for city hilo\n",
      "Processing Record 31 in set 2 for city san sebastian\n",
      "Processing Record 32 in set 2 for city albany\n",
      "Processing Record 33 in set 2 for city veraval\n",
      "Processing Record 34 in set 2 for city new norfolk\n",
      "Processing Record 35 in set 2 for city inirida\n",
      "Processing Record 36 in set 2 for city samusu\n",
      "city not found\n",
      "Processing Record 37 in set 2 for city okha\n",
      "Processing Record 38 in set 2 for city san policarpo\n",
      "Processing Record 39 in set 2 for city mahebourg\n",
      "Processing Record 40 in set 2 for city buenos aires\n",
      "Processing Record 41 in set 2 for city fort nelson\n",
      "Processing Record 42 in set 2 for city carnarvon\n",
      "Processing Record 43 in set 2 for city san antonio\n",
      "Processing Record 44 in set 2 for city haines junction\n",
      "Processing Record 45 in set 2 for city vyborg\n",
      "Processing Record 46 in set 2 for city jepara\n",
      "Processing Record 47 in set 2 for city sitka\n",
      "Processing Record 48 in set 2 for city makuyuni\n",
      "Processing Record 49 in set 2 for city pevek\n",
      "Processing Record 50 in set 2 for city ibra\n",
      "Processing Record 0 in set 3 for city nador\n",
      "Processing Record 1 in set 3 for city nhulunbuy\n",
      "Processing Record 2 in set 3 for city sentyabrskiy\n",
      "city not found\n",
      "Processing Record 3 in set 3 for city clyde river\n",
      "Processing Record 4 in set 3 for city hamilton\n",
      "Processing Record 5 in set 3 for city canutama\n",
      "Processing Record 6 in set 3 for city kruisfontein\n",
      "Processing Record 7 in set 3 for city le port\n",
      "Processing Record 8 in set 3 for city dudinka\n",
      "Processing Record 9 in set 3 for city toktogul\n",
      "Processing Record 10 in set 3 for city kupang\n",
      "Processing Record 11 in set 3 for city riyadh\n",
      "Processing Record 12 in set 3 for city klaksvik\n",
      "Processing Record 13 in set 3 for city talnakh\n",
      "Processing Record 14 in set 3 for city bredasdorp\n"
     ]
    },
    {
     "name": "stdout",
     "output_type": "stream",
     "text": [
      "Processing Record 15 in set 3 for city pandamatenga\n",
      "Processing Record 16 in set 3 for city ust-omchug\n",
      "Processing Record 17 in set 3 for city port blair\n",
      "Processing Record 18 in set 3 for city penzance\n",
      "Processing Record 19 in set 3 for city road town\n",
      "Processing Record 20 in set 3 for city broken hill\n",
      "Processing Record 21 in set 3 for city aklavik\n",
      "Processing Record 22 in set 3 for city zorritos\n",
      "Processing Record 23 in set 3 for city taft\n",
      "Processing Record 24 in set 3 for city aksarka\n",
      "Processing Record 25 in set 3 for city melhus\n",
      "Processing Record 26 in set 3 for city flinders\n",
      "Processing Record 27 in set 3 for city kasama\n",
      "Processing Record 28 in set 3 for city bengkulu\n",
      "Processing Record 29 in set 3 for city yulara\n",
      "Processing Record 30 in set 3 for city porto santo\n",
      "Processing Record 31 in set 3 for city port keats\n",
      "Processing Record 32 in set 3 for city churachandpur\n",
      "Processing Record 33 in set 3 for city qasigiannguit\n",
      "Processing Record 34 in set 3 for city kalabo\n",
      "Processing Record 35 in set 3 for city salinopolis\n",
      "Processing Record 36 in set 3 for city upernavik\n",
      "Processing Record 37 in set 3 for city sur\n",
      "Processing Record 38 in set 3 for city dingle\n",
      "Processing Record 39 in set 3 for city pisco\n",
      "Processing Record 40 in set 3 for city mingaora\n",
      "Processing Record 41 in set 3 for city ust-maya\n",
      "Processing Record 42 in set 3 for city jahrom\n",
      "city not found\n",
      "Processing Record 43 in set 3 for city sakaiminato\n",
      "Processing Record 44 in set 3 for city clarksville\n",
      "Processing Record 45 in set 3 for city pietarsaari\n",
      "Processing Record 46 in set 3 for city kingisepp\n",
      "Processing Record 47 in set 3 for city malanje\n",
      "Processing Record 48 in set 3 for city tazovskiy\n",
      "Processing Record 49 in set 3 for city wajima\n",
      "Processing Record 50 in set 3 for city saint-philippe\n",
      "Processing Record 0 in set 4 for city havelock\n",
      "Processing Record 1 in set 4 for city kautokeino\n",
      "Processing Record 2 in set 4 for city belmonte\n",
      "Processing Record 3 in set 4 for city malartic\n",
      "Processing Record 4 in set 4 for city manggar\n",
      "Processing Record 5 in set 4 for city half moon bay\n",
      "Processing Record 6 in set 4 for city nanortalik\n",
      "Processing Record 7 in set 4 for city olafsvik\n",
      "Processing Record 8 in set 4 for city palabuhanratu\n",
      "city not found\n",
      "Processing Record 9 in set 4 for city elizabeth city\n",
      "Processing Record 10 in set 4 for city port macquarie\n",
      "Processing Record 11 in set 4 for city barentsburg\n",
      "city not found\n",
      "Processing Record 12 in set 4 for city vestmannaeyjar\n",
      "Processing Record 13 in set 4 for city richards bay\n",
      "Processing Record 14 in set 4 for city berlevag\n",
      "Processing Record 15 in set 4 for city sao filipe\n",
      "Processing Record 16 in set 4 for city severo-yeniseyskiy\n",
      "Processing Record 17 in set 4 for city maralal\n",
      "Processing Record 18 in set 4 for city san lorenzo\n",
      "Processing Record 19 in set 4 for city razole\n",
      "Processing Record 20 in set 4 for city kericho\n",
      "Processing Record 21 in set 4 for city halalo\n",
      "city not found\n",
      "Processing Record 22 in set 4 for city ampanihy\n",
      "Processing Record 23 in set 4 for city biryusinsk\n",
      "Processing Record 24 in set 4 for city komsomolskiy\n",
      "Processing Record 25 in set 4 for city fortuna\n",
      "Processing Record 26 in set 4 for city mezen\n",
      "Processing Record 27 in set 4 for city japura\n",
      "Processing Record 28 in set 4 for city mayor pablo lagerenza\n",
      "Processing Record 29 in set 4 for city delmas\n",
      "Processing Record 30 in set 4 for city guerrero negro\n",
      "Processing Record 31 in set 4 for city walvis bay\n",
      "Processing Record 32 in set 4 for city dongsheng\n",
      "Processing Record 33 in set 4 for city georgetown\n",
      "Processing Record 34 in set 4 for city luderitz\n",
      "Processing Record 35 in set 4 for city asau\n",
      "Processing Record 36 in set 4 for city saldanha\n",
      "Processing Record 37 in set 4 for city san jose\n",
      "Processing Record 38 in set 4 for city gorodishche\n",
      "Processing Record 39 in set 4 for city liverpool\n",
      "Processing Record 40 in set 4 for city honningsvag\n",
      "Processing Record 41 in set 4 for city chuy\n",
      "Processing Record 42 in set 4 for city baruun-urt\n",
      "Processing Record 43 in set 4 for city terney\n",
      "Processing Record 44 in set 4 for city inzer\n",
      "Processing Record 45 in set 4 for city piranshahr\n",
      "Processing Record 46 in set 4 for city anloga\n",
      "Processing Record 47 in set 4 for city narsaq\n",
      "Processing Record 48 in set 4 for city sao jose de ribamar\n",
      "Processing Record 49 in set 4 for city constitucion\n",
      "Processing Record 50 in set 4 for city pangkalanbuun\n",
      "Processing Record 0 in set 5 for city yatou\n",
      "Processing Record 1 in set 5 for city charlottetown\n",
      "Processing Record 2 in set 5 for city paamiut\n",
      "Processing Record 3 in set 5 for city faya\n",
      "Processing Record 4 in set 5 for city nizhneyansk\n",
      "city not found\n",
      "Processing Record 5 in set 5 for city vila\n",
      "Processing Record 6 in set 5 for city samalaeulu\n",
      "city not found\n",
      "Processing Record 7 in set 5 for city talcahuano\n",
      "Processing Record 8 in set 5 for city navahrudak\n",
      "Processing Record 9 in set 5 for city tuktoyaktuk\n",
      "Processing Record 10 in set 5 for city tumannyy\n",
      "city not found\n",
      "Processing Record 11 in set 5 for city north bend\n",
      "Processing Record 12 in set 5 for city san carlos de bariloche\n",
      "Processing Record 13 in set 5 for city kuche\n",
      "city not found\n",
      "Processing Record 14 in set 5 for city durg\n",
      "Processing Record 15 in set 5 for city auki\n",
      "Processing Record 16 in set 5 for city suba\n",
      "Processing Record 17 in set 5 for city broome\n",
      "Processing Record 18 in set 5 for city sidrolandia\n",
      "Processing Record 19 in set 5 for city stoyba\n",
      "city not found\n",
      "Processing Record 20 in set 5 for city waingapu\n",
      "Processing Record 21 in set 5 for city aracuai\n",
      "Processing Record 22 in set 5 for city kutum\n",
      "Processing Record 23 in set 5 for city manjo\n",
      "Processing Record 24 in set 5 for city lincoln\n",
      "Processing Record 25 in set 5 for city luleburgaz\n",
      "Processing Record 26 in set 5 for city alta floresta\n",
      "Processing Record 27 in set 5 for city lakes entrance\n",
      "Processing Record 28 in set 5 for city tabou\n",
      "Processing Record 29 in set 5 for city vertou\n",
      "Processing Record 30 in set 5 for city beringovskiy\n",
      "Processing Record 31 in set 5 for city waikuku\n",
      "Processing Record 32 in set 5 for city imeni poliny osipenko\n",
      "Processing Record 33 in set 5 for city geraldton\n",
      "Processing Record 34 in set 5 for city mehamn\n",
      "Processing Record 35 in set 5 for city briancon\n",
      "Processing Record 36 in set 5 for city flin flon\n",
      "Processing Record 37 in set 5 for city mount isa\n",
      "Processing Record 38 in set 5 for city arman\n",
      "Processing Record 39 in set 5 for city santa maria del oro\n",
      "Processing Record 40 in set 5 for city timra\n",
      "Processing Record 41 in set 5 for city sainte-rose\n",
      "Processing Record 42 in set 5 for city cotija\n",
      "city not found\n",
      "Processing Record 43 in set 5 for city te anau\n",
      "Processing Record 44 in set 5 for city skalistyy\n",
      "city not found\n",
      "Processing Record 45 in set 5 for city cananeia\n",
      "Processing Record 46 in set 5 for city sorvag\n",
      "city not found\n",
      "Processing Record 47 in set 5 for city moisei\n",
      "Processing Record 48 in set 5 for city sao jose da coroa grande\n",
      "Processing Record 49 in set 5 for city saint george\n",
      "Processing Record 50 in set 5 for city kaihua\n",
      "Processing Record 0 in set 6 for city yuzhno-yeniseyskiy\n",
      "city not found\n",
      "Processing Record 1 in set 6 for city taloqan\n",
      "Processing Record 2 in set 6 for city longyearbyen\n",
      "Processing Record 3 in set 6 for city zyryanka\n",
      "Processing Record 4 in set 6 for city opuwo\n",
      "Processing Record 5 in set 6 for city tocopilla\n",
      "Processing Record 6 in set 6 for city porto novo\n",
      "Processing Record 7 in set 6 for city senanga\n",
      "Processing Record 8 in set 6 for city paita\n",
      "Processing Record 9 in set 6 for city havoysund\n",
      "Processing Record 10 in set 6 for city jinxiang\n",
      "Processing Record 11 in set 6 for city balykshi\n",
      "Processing Record 12 in set 6 for city laguna\n",
      "Processing Record 13 in set 6 for city cidreira\n",
      "Processing Record 14 in set 6 for city karakol\n",
      "Processing Record 15 in set 6 for city oskarshamn\n",
      "Processing Record 16 in set 6 for city umzimvubu\n",
      "city not found\n",
      "Processing Record 17 in set 6 for city marcona\n",
      "city not found\n",
      "Processing Record 18 in set 6 for city kisaran\n",
      "Processing Record 19 in set 6 for city mahon\n",
      "Processing Record 20 in set 6 for city fare\n",
      "Processing Record 21 in set 6 for city hovd\n",
      "Processing Record 22 in set 6 for city xichang\n",
      "Processing Record 23 in set 6 for city puerto leguizamo\n",
      "Processing Record 24 in set 6 for city najran\n",
      "Processing Record 25 in set 6 for city salisbury\n"
     ]
    },
    {
     "name": "stdout",
     "output_type": "stream",
     "text": [
      "Processing Record 26 in set 6 for city iqaluit\n",
      "Processing Record 27 in set 6 for city ambodifototra\n",
      "city not found\n",
      "Processing Record 28 in set 6 for city gat\n",
      "Processing Record 29 in set 6 for city big rapids\n",
      "Processing Record 30 in set 6 for city bar harbor\n",
      "Processing Record 31 in set 6 for city andenes\n",
      "Processing Record 32 in set 6 for city bubaque\n",
      "Processing Record 33 in set 6 for city mahibadhoo\n",
      "Processing Record 34 in set 6 for city corumba\n",
      "Processing Record 35 in set 6 for city puerto escondido\n",
      "Processing Record 36 in set 6 for city borogontsy\n",
      "Processing Record 37 in set 6 for city fevralsk\n",
      "city not found\n",
      "Processing Record 38 in set 6 for city rawson\n",
      "Processing Record 39 in set 6 for city tucumcari\n",
      "Processing Record 40 in set 6 for city panzhihua\n",
      "Processing Record 41 in set 6 for city sabang\n",
      "Processing Record 42 in set 6 for city russell\n",
      "Processing Record 43 in set 6 for city saint-georges\n",
      "Processing Record 44 in set 6 for city issaquah\n",
      "Processing Record 45 in set 6 for city peniche\n",
      "Processing Record 46 in set 6 for city yar-sale\n",
      "Processing Record 47 in set 6 for city fort saint john\n",
      "city not found\n",
      "Processing Record 48 in set 6 for city dir\n",
      "Processing Record 49 in set 6 for city esperance\n",
      "Processing Record 50 in set 6 for city manokwari\n",
      "Processing Record 0 in set 7 for city praia da vitoria\n",
      "Processing Record 1 in set 7 for city acarau\n",
      "Processing Record 2 in set 7 for city avera\n",
      "Processing Record 3 in set 7 for city neath\n",
      "Processing Record 4 in set 7 for city vagur\n",
      "Processing Record 5 in set 7 for city qandahar\n",
      "city not found\n",
      "Processing Record 6 in set 7 for city poya\n",
      "Processing Record 7 in set 7 for city nalut\n",
      "Processing Record 8 in set 7 for city tagusao\n",
      "Processing Record 9 in set 7 for city bibbiena\n",
      "Processing Record 10 in set 7 for city mogadishu\n",
      "Processing Record 11 in set 7 for city kuah\n",
      "Processing Record 12 in set 7 for city chengmai\n",
      "city not found\n",
      "Processing Record 13 in set 7 for city portree\n",
      "Processing Record 14 in set 7 for city tarakan\n",
      "Processing Record 15 in set 7 for city alice springs\n",
      "Processing Record 16 in set 7 for city aksum\n",
      "Processing Record 17 in set 7 for city hambantota\n",
      "Processing Record 18 in set 7 for city san felipe\n",
      "Processing Record 19 in set 7 for city katsuura\n",
      "Processing Record 20 in set 7 for city ilulissat\n",
      "Processing Record 21 in set 7 for city ijui\n",
      "Processing Record 22 in set 7 for city kabalo\n",
      "Processing Record 23 in set 7 for city epe\n",
      "Processing Record 24 in set 7 for city krasnoselkup\n",
      "Processing Record 25 in set 7 for city sao joao da barra\n",
      "Processing Record 26 in set 7 for city punta umbria\n",
      "Processing Record 27 in set 7 for city sobolevo\n",
      "Processing Record 28 in set 7 for city murray bridge\n",
      "Processing Record 29 in set 7 for city urdzhar\n",
      "city not found\n",
      "Processing Record 30 in set 7 for city harper\n",
      "Processing Record 31 in set 7 for city uyuni\n",
      "Processing Record 32 in set 7 for city cockburn town\n",
      "Processing Record 33 in set 7 for city tinyahuarco\n",
      "Processing Record 34 in set 7 for city puerto madryn\n",
      "Processing Record 35 in set 7 for city alugan\n",
      "Processing Record 36 in set 7 for city taoudenni\n",
      "Processing Record 37 in set 7 for city rapid valley\n",
      "Processing Record 38 in set 7 for city contai\n",
      "Processing Record 39 in set 7 for city bilibino\n",
      "Processing Record 40 in set 7 for city finnsnes\n",
      "Processing Record 41 in set 7 for city truro\n",
      "Processing Record 42 in set 7 for city benidorm\n",
      "Processing Record 43 in set 7 for city asfi\n",
      "Processing Record 44 in set 7 for city umm kaddadah\n",
      "Processing Record 45 in set 7 for city yinchuan\n",
      "Processing Record 46 in set 7 for city souillac\n",
      "Processing Record 47 in set 7 for city mokhsogollokh\n",
      "Processing Record 48 in set 7 for city bambous virieux\n",
      "Processing Record 49 in set 7 for city hofn\n",
      "Processing Record 50 in set 7 for city marsa matruh\n",
      "Processing Record 0 in set 8 for city kulebaki\n",
      "Processing Record 1 in set 8 for city burgersdorp\n",
      "Processing Record 2 in set 8 for city namioka\n",
      "Processing Record 3 in set 8 for city attawapiskat\n",
      "city not found\n",
      "Processing Record 4 in set 8 for city eureka\n",
      "Processing Record 5 in set 8 for city san pedro\n",
      "Processing Record 6 in set 8 for city tadine\n",
      "Processing Record 7 in set 8 for city saint-felicien\n",
      "Processing Record 8 in set 8 for city sola\n",
      "Processing Record 9 in set 8 for city taltal\n",
      "Processing Record 10 in set 8 for city zhanaozen\n",
      "Processing Record 11 in set 8 for city clovis\n",
      "Processing Record 12 in set 8 for city kadykchan\n",
      "city not found\n",
      "Processing Record 13 in set 8 for city boende\n",
      "Processing Record 14 in set 8 for city farmington\n",
      "Processing Record 15 in set 8 for city bathsheba\n",
      "Processing Record 16 in set 8 for city nampula\n",
      "Processing Record 17 in set 8 for city ahuimanu\n",
      "Processing Record 18 in set 8 for city tabiauea\n",
      "city not found\n",
      "Processing Record 19 in set 8 for city kavaratti\n",
      "Processing Record 20 in set 8 for city ginir\n",
      "Processing Record 21 in set 8 for city dunedin\n",
      "Processing Record 22 in set 8 for city tiarei\n",
      "Processing Record 23 in set 8 for city rosario do sul\n",
      "Processing Record 24 in set 8 for city tari\n",
      "Processing Record 25 in set 8 for city listowel\n",
      "Processing Record 26 in set 8 for city agirish\n",
      "Processing Record 27 in set 8 for city nara\n",
      "Processing Record 28 in set 8 for city kasempa\n",
      "Processing Record 29 in set 8 for city sungaipenuh\n",
      "Processing Record 30 in set 8 for city tambun\n",
      "Processing Record 31 in set 8 for city gravdal\n",
      "Processing Record 32 in set 8 for city baillif\n",
      "Processing Record 33 in set 8 for city bolshoy tsaryn\n",
      "city not found\n",
      "Processing Record 34 in set 8 for city khonuu\n",
      "city not found\n",
      "Processing Record 35 in set 8 for city lavrentiya\n",
      "Processing Record 36 in set 8 for city villa carlos paz\n",
      "Processing Record 37 in set 8 for city mount gambier\n",
      "Processing Record 38 in set 8 for city ortigueira\n",
      "Processing Record 39 in set 8 for city norrtalje\n",
      "Processing Record 40 in set 8 for city bethel\n",
      "Processing Record 41 in set 8 for city touros\n",
      "Processing Record 42 in set 8 for city winnemucca\n",
      "Processing Record 43 in set 8 for city vila franca do campo\n",
      "Processing Record 44 in set 8 for city amderma\n",
      "city not found\n",
      "Processing Record 45 in set 8 for city gizo\n",
      "Processing Record 46 in set 8 for city biak\n",
      "Processing Record 47 in set 8 for city lesogorskiy\n",
      "Processing Record 48 in set 8 for city karaidel\n",
      "Processing Record 49 in set 8 for city saint-marc\n",
      "Processing Record 50 in set 8 for city jashpurnagar\n",
      "Processing Record 0 in set 9 for city manavalakurichi\n",
      "Processing Record 1 in set 9 for city praia\n",
      "Processing Record 2 in set 9 for city alekseyevka\n",
      "Processing Record 3 in set 9 for city woippy\n",
      "Processing Record 4 in set 9 for city presidente medici\n",
      "Processing Record 5 in set 9 for city sandpoint\n",
      "Processing Record 6 in set 9 for city ribeira brava\n",
      "Processing Record 7 in set 9 for city marsh harbour\n",
      "Processing Record 8 in set 9 for city ebetsu\n",
      "Processing Record 9 in set 9 for city kristiansund\n",
      "Processing Record 10 in set 9 for city redlands\n",
      "Processing Record 11 in set 9 for city lasa\n",
      "Processing Record 12 in set 9 for city noumea\n",
      "Processing Record 13 in set 9 for city kudahuvadhoo\n",
      "Processing Record 14 in set 9 for city yokadouma\n",
      "Processing Record 15 in set 9 for city evensk\n",
      "Processing Record 16 in set 9 for city sinnamary\n",
      "Processing Record 17 in set 9 for city urumqi\n",
      "Processing Record 18 in set 9 for city baykit\n",
      "Processing Record 19 in set 9 for city ayr\n",
      "Processing Record 20 in set 9 for city pousat\n",
      "city not found\n",
      "Processing Record 21 in set 9 for city hobyo\n",
      "Processing Record 22 in set 9 for city manaure\n",
      "Processing Record 23 in set 9 for city mitsamiouli\n",
      "Processing Record 24 in set 9 for city linqing\n",
      "Processing Record 25 in set 9 for city diamantina\n",
      "Processing Record 26 in set 9 for city labelle\n",
      "Processing Record 27 in set 9 for city campana\n",
      "Processing Record 28 in set 9 for city provideniya\n",
      "Processing Record 29 in set 9 for city zambezi\n",
      "Processing Record 30 in set 9 for city namibe\n",
      "Processing Record 31 in set 9 for city stephenville\n",
      "Processing Record 32 in set 9 for city laredo\n",
      "Processing Record 33 in set 9 for city suntar\n",
      "Processing Record 34 in set 9 for city anadyr\n",
      "Processing Record 35 in set 9 for city ponta do sol\n",
      "Processing Record 36 in set 9 for city kelo\n",
      "Processing Record 37 in set 9 for city clarence town\n",
      "Processing Record 38 in set 9 for city juegang\n",
      "Processing Record 39 in set 9 for city davila\n"
     ]
    },
    {
     "name": "stdout",
     "output_type": "stream",
     "text": [
      "Processing Record 40 in set 9 for city veracruz\n",
      "Processing Record 41 in set 9 for city kishi\n",
      "Processing Record 42 in set 9 for city farafangana\n",
      "Processing Record 43 in set 9 for city saint anthony\n",
      "Processing Record 44 in set 9 for city batagay\n",
      "Processing Record 45 in set 9 for city nakhodka\n",
      "Processing Record 46 in set 9 for city la libertad\n",
      "Processing Record 47 in set 9 for city meulaboh\n",
      "Processing Record 48 in set 9 for city bolshoye murashkino\n",
      "Processing Record 49 in set 9 for city zolotinka\n",
      "city not found\n",
      "Processing Record 50 in set 9 for city nizhniy odes\n",
      "Processing Record 0 in set 10 for city gigmoto\n",
      "Processing Record 1 in set 10 for city saint-joseph\n",
      "Processing Record 2 in set 10 for city uttaradit\n",
      "Processing Record 3 in set 10 for city punta alta\n",
      "Processing Record 4 in set 10 for city zatoka\n",
      "Processing Record 5 in set 10 for city sorland\n",
      "Processing Record 6 in set 10 for city nawa\n",
      "Processing Record 7 in set 10 for city palmer\n",
      "Processing Record 8 in set 10 for city le pradet\n",
      "Processing Record 9 in set 10 for city kizema\n",
      "Processing Record 10 in set 10 for city port hardy\n",
      "Processing Record 11 in set 10 for city miranda\n",
      "Processing Record 12 in set 10 for city livingstonia\n",
      "Processing Record 13 in set 10 for city olinda\n",
      "Processing Record 14 in set 10 for city paucartambo\n",
      "city not found\n",
      "Processing Record 15 in set 10 for city balikpapan\n",
      "Processing Record 16 in set 10 for city salumbar\n",
      "Processing Record 17 in set 10 for city khasan\n",
      "Processing Record 18 in set 10 for city yunhe\n",
      "Processing Record 19 in set 10 for city azimur\n",
      "city not found\n",
      "Processing Record 20 in set 10 for city rudnya\n",
      "Processing Record 21 in set 10 for city wonosobo\n",
      "Processing Record 22 in set 10 for city siare\n",
      "city not found\n",
      "Processing Record 23 in set 10 for city bajil\n",
      "Processing Record 24 in set 10 for city karratha\n",
      "Processing Record 25 in set 10 for city boralday\n",
      "Processing Record 26 in set 10 for city port moresby\n",
      "Processing Record 27 in set 10 for city coquimbo\n",
      "Processing Record 28 in set 10 for city ziro\n",
      "Processing Record 29 in set 10 for city sept-iles\n",
      "Processing Record 30 in set 10 for city kieta\n",
      "Processing Record 31 in set 10 for city nuuk\n",
      "Processing Record 32 in set 10 for city sebring\n",
      "Processing Record 33 in set 10 for city abha\n",
      "Processing Record 34 in set 10 for city hibbing\n",
      "Processing Record 35 in set 10 for city saleaula\n",
      "city not found\n",
      "Processing Record 36 in set 10 for city diffa\n",
      "Processing Record 37 in set 10 for city merauke\n",
      "Processing Record 38 in set 10 for city goundam\n",
      "Processing Record 39 in set 10 for city bighapur\n",
      "Processing Record 40 in set 10 for city zhigansk\n",
      "Processing Record 41 in set 10 for city timizart\n",
      "Processing Record 42 in set 10 for city tir pol\n",
      "city not found\n",
      "Processing Record 43 in set 10 for city tazmalt\n",
      "Processing Record 44 in set 10 for city chake chake\n",
      "Processing Record 45 in set 10 for city mentok\n",
      "city not found\n",
      "Processing Record 46 in set 10 for city rocha\n",
      "Processing Record 47 in set 10 for city la ronge\n",
      "Processing Record 48 in set 10 for city nanakuli\n",
      "Processing Record 49 in set 10 for city palkino\n",
      "Processing Record 50 in set 10 for city shchelyayur\n",
      "city not found\n",
      "Processing Record 0 in set 11 for city mapimi\n",
      "Processing Record 1 in set 11 for city suao\n",
      "city not found\n",
      "Processing Record 2 in set 11 for city camacha\n",
      "Processing Record 3 in set 11 for city cherskiy\n",
      "Processing Record 4 in set 11 for city oranjemund\n",
      "Processing Record 5 in set 11 for city gubkinskiy\n",
      "Processing Record 6 in set 11 for city svetlyy\n",
      "Processing Record 7 in set 11 for city keuruu\n",
      "Processing Record 8 in set 11 for city fairbanks\n",
      "Processing Record 9 in set 11 for city durango\n",
      "Processing Record 10 in set 11 for city zaozhuang\n",
      "Processing Record 11 in set 11 for city rundu\n",
      "Processing Record 12 in set 11 for city murrhardt\n",
      "Processing Record 13 in set 11 for city sindor\n",
      "Processing Record 14 in set 11 for city lexington\n",
      "Processing Record 15 in set 11 for city korla\n",
      "Processing Record 16 in set 11 for city koulikoro\n",
      "Processing Record 17 in set 11 for city antibes\n",
      "Processing Record 18 in set 11 for city matay\n",
      "Processing Record 19 in set 11 for city gazanjyk\n",
      "Processing Record 20 in set 11 for city abu dhabi\n",
      "Processing Record 21 in set 11 for city churapcha\n",
      "Processing Record 22 in set 11 for city roald\n",
      "Processing Record 23 in set 11 for city launceston\n",
      "Processing Record 24 in set 11 for city satipo\n",
      "Processing Record 25 in set 11 for city los llanos de aridane\n",
      "Processing Record 26 in set 11 for city nerchinskiy zavod\n",
      "Processing Record 27 in set 11 for city itarema\n",
      "Processing Record 28 in set 11 for city sahagun\n",
      "Processing Record 29 in set 11 for city borba\n",
      "Processing Record 30 in set 11 for city usinsk\n",
      "Processing Record 31 in set 11 for city cayenne\n",
      "Processing Record 32 in set 11 for city bukama\n",
      "Processing Record 33 in set 11 for city yanji\n",
      "Processing Record 34 in set 11 for city lubumbashi\n",
      "Processing Record 35 in set 11 for city price\n",
      "Processing Record 36 in set 11 for city gurgan\n",
      "city not found\n",
      "Processing Record 37 in set 11 for city agua buena\n",
      "Processing Record 38 in set 11 for city mocambique\n",
      "city not found\n",
      "Processing Record 39 in set 11 for city mecca\n",
      "Processing Record 40 in set 11 for city tsihombe\n",
      "city not found\n",
      "Processing Record 41 in set 11 for city gambela\n",
      "Processing Record 42 in set 11 for city tallahassee\n",
      "Processing Record 43 in set 11 for city petropavlovsk-kamchatskiy\n",
      "Processing Record 44 in set 11 for city lovozero\n",
      "Processing Record 45 in set 11 for city san patricio\n",
      "Processing Record 46 in set 11 for city nosy varika\n",
      "Processing Record 47 in set 11 for city celestun\n",
      "Processing Record 48 in set 11 for city bradford\n",
      "Processing Record 49 in set 11 for city agucadoura\n",
      "Processing Record 50 in set 11 for city atambua\n",
      "Processing Record 0 in set 12 for city chicla\n",
      "Processing Record 1 in set 12 for city qaqortoq\n",
      "Processing Record 2 in set 12 for city derzhavinsk\n",
      "Processing Record 3 in set 12 for city malim\n",
      "Processing Record 4 in set 12 for city tampakan\n",
      "Processing Record 5 in set 12 for city yeppoon\n",
      "Processing Record 6 in set 12 for city serici\n",
      "Processing Record 7 in set 12 for city blackwater\n",
      "Processing Record 8 in set 12 for city tokmak\n",
      "Processing Record 9 in set 12 for city high level\n",
      "Processing Record 10 in set 12 for city vanimo\n",
      "Processing Record 11 in set 12 for city matagami\n",
      "Processing Record 12 in set 12 for city jiangdu\n",
      "Processing Record 13 in set 12 for city morgan city\n",
      "Processing Record 14 in set 12 for city marfino\n",
      "Processing Record 15 in set 12 for city umarga\n",
      "Processing Record 16 in set 12 for city jieshi\n",
      "Processing Record 17 in set 12 for city pangoa\n",
      "Processing Record 18 in set 12 for city poum\n"
     ]
    }
   ],
   "source": [
    "#Loops on Json object to get data and put into lists\n",
    "numcounter = 0\n",
    "setcounter = 0\n",
    "\n",
    "for city in cities:    \n",
    "    query = url + \"&q=\" + city\n",
    "    response = requests.get(query)\n",
    "    response_json = response.json()\n",
    "    \n",
    "    if numcounter < 50:\n",
    "        numcounter += 1\n",
    "    else: \n",
    "        setcounter += 1\n",
    "        numcounter = 0\n",
    "    print(f'Processing Record {numcounter} in set {setcounter} for city {city}')\n",
    "    try:   \n",
    "        Lat.append(response_json['coord']['lat']) \n",
    "        Lng.append(response_json['coord']['lon']) \n",
    "        MaxTemp.append(response_json['main']['temp_max']) \n",
    "        Humidity.append(response_json['main']['humidity'])\n",
    "        Cloudiness.append(response_json['clouds']['all'])  \n",
    "        WindSpeed.append(response_json['wind']['speed']) \n",
    "        Date.append(response_json['dt'])  \n",
    "        country.append(response_json['sys']['country']) \n",
    "        diffcity.append(city) \n",
    "    except: \n",
    "        print('city not found') \n",
    "        pass"
   ]
  },
  {
   "cell_type": "code",
   "execution_count": 6,
   "metadata": {},
   "outputs": [],
   "source": [
    "#Create csv from print data\n",
    "weather_dict = {'city name':diffcity, \n",
    "'Lat': Lat,\n",
    "'Lng': Lng,\n",
    "'MaxTemp': MaxTemp,\n",
    "'Humidity':Humidity,\n",
    "'Cloudiness': Cloudiness,\n",
    "'WindSpeed': WindSpeed,\n",
    "'Date' : Date,\n",
    "'country' : country} \n",
    "\n",
    "weather_dataframe = pd.DataFrame(weather_dict) \n",
    "weather_dataframe \n",
    "weather_dataframe.to_csv(\"weather_dataframe.csv\")"
   ]
  },
  {
   "cell_type": "code",
   "execution_count": 7,
   "metadata": {},
   "outputs": [
    {
     "data": {
      "text/html": [
       "<div>\n",
       "<style scoped>\n",
       "    .dataframe tbody tr th:only-of-type {\n",
       "        vertical-align: middle;\n",
       "    }\n",
       "\n",
       "    .dataframe tbody tr th {\n",
       "        vertical-align: top;\n",
       "    }\n",
       "\n",
       "    .dataframe thead th {\n",
       "        text-align: right;\n",
       "    }\n",
       "</style>\n",
       "<table border=\"1\" class=\"dataframe\">\n",
       "  <thead>\n",
       "    <tr style=\"text-align: right;\">\n",
       "      <th></th>\n",
       "      <th>city name</th>\n",
       "      <th>Lat</th>\n",
       "      <th>Lng</th>\n",
       "      <th>MaxTemp</th>\n",
       "      <th>Humidity</th>\n",
       "      <th>Cloudiness</th>\n",
       "      <th>WindSpeed</th>\n",
       "      <th>Date</th>\n",
       "      <th>country</th>\n",
       "    </tr>\n",
       "  </thead>\n",
       "  <tbody>\n",
       "    <tr>\n",
       "      <th>0</th>\n",
       "      <td>ixtapa</td>\n",
       "      <td>20.7000</td>\n",
       "      <td>-105.2000</td>\n",
       "      <td>78.80</td>\n",
       "      <td>53</td>\n",
       "      <td>1</td>\n",
       "      <td>4.61</td>\n",
       "      <td>1612032599</td>\n",
       "      <td>MX</td>\n",
       "    </tr>\n",
       "    <tr>\n",
       "      <th>1</th>\n",
       "      <td>hasaki</td>\n",
       "      <td>35.7333</td>\n",
       "      <td>140.8333</td>\n",
       "      <td>28.40</td>\n",
       "      <td>68</td>\n",
       "      <td>20</td>\n",
       "      <td>3.44</td>\n",
       "      <td>1612032599</td>\n",
       "      <td>JP</td>\n",
       "    </tr>\n",
       "    <tr>\n",
       "      <th>2</th>\n",
       "      <td>jiazi</td>\n",
       "      <td>22.8779</td>\n",
       "      <td>116.0670</td>\n",
       "      <td>55.51</td>\n",
       "      <td>88</td>\n",
       "      <td>3</td>\n",
       "      <td>11.56</td>\n",
       "      <td>1612032599</td>\n",
       "      <td>CN</td>\n",
       "    </tr>\n",
       "    <tr>\n",
       "      <th>3</th>\n",
       "      <td>atuona</td>\n",
       "      <td>-9.8000</td>\n",
       "      <td>-139.0333</td>\n",
       "      <td>78.78</td>\n",
       "      <td>78</td>\n",
       "      <td>19</td>\n",
       "      <td>16.11</td>\n",
       "      <td>1612032600</td>\n",
       "      <td>PF</td>\n",
       "    </tr>\n",
       "    <tr>\n",
       "      <th>4</th>\n",
       "      <td>berdigestyakh</td>\n",
       "      <td>62.0989</td>\n",
       "      <td>126.6992</td>\n",
       "      <td>-50.01</td>\n",
       "      <td>76</td>\n",
       "      <td>67</td>\n",
       "      <td>1.19</td>\n",
       "      <td>1612032600</td>\n",
       "      <td>RU</td>\n",
       "    </tr>\n",
       "    <tr>\n",
       "      <th>...</th>\n",
       "      <td>...</td>\n",
       "      <td>...</td>\n",
       "      <td>...</td>\n",
       "      <td>...</td>\n",
       "      <td>...</td>\n",
       "      <td>...</td>\n",
       "      <td>...</td>\n",
       "      <td>...</td>\n",
       "      <td>...</td>\n",
       "    </tr>\n",
       "    <tr>\n",
       "      <th>575</th>\n",
       "      <td>marfino</td>\n",
       "      <td>55.7028</td>\n",
       "      <td>37.3822</td>\n",
       "      <td>27.00</td>\n",
       "      <td>80</td>\n",
       "      <td>90</td>\n",
       "      <td>8.95</td>\n",
       "      <td>1612032708</td>\n",
       "      <td>RU</td>\n",
       "    </tr>\n",
       "    <tr>\n",
       "      <th>576</th>\n",
       "      <td>umarga</td>\n",
       "      <td>17.8333</td>\n",
       "      <td>76.6167</td>\n",
       "      <td>72.14</td>\n",
       "      <td>44</td>\n",
       "      <td>0</td>\n",
       "      <td>8.14</td>\n",
       "      <td>1612032708</td>\n",
       "      <td>IN</td>\n",
       "    </tr>\n",
       "    <tr>\n",
       "      <th>577</th>\n",
       "      <td>jieshi</td>\n",
       "      <td>22.8134</td>\n",
       "      <td>115.8257</td>\n",
       "      <td>56.55</td>\n",
       "      <td>85</td>\n",
       "      <td>1</td>\n",
       "      <td>13.38</td>\n",
       "      <td>1612032708</td>\n",
       "      <td>CN</td>\n",
       "    </tr>\n",
       "    <tr>\n",
       "      <th>578</th>\n",
       "      <td>pangoa</td>\n",
       "      <td>-12.1167</td>\n",
       "      <td>-73.0000</td>\n",
       "      <td>81.84</td>\n",
       "      <td>66</td>\n",
       "      <td>49</td>\n",
       "      <td>1.16</td>\n",
       "      <td>1612032709</td>\n",
       "      <td>PE</td>\n",
       "    </tr>\n",
       "    <tr>\n",
       "      <th>579</th>\n",
       "      <td>poum</td>\n",
       "      <td>-20.2333</td>\n",
       "      <td>164.0167</td>\n",
       "      <td>77.94</td>\n",
       "      <td>75</td>\n",
       "      <td>26</td>\n",
       "      <td>16.37</td>\n",
       "      <td>1612032709</td>\n",
       "      <td>NC</td>\n",
       "    </tr>\n",
       "  </tbody>\n",
       "</table>\n",
       "<p>580 rows × 9 columns</p>\n",
       "</div>"
      ],
      "text/plain": [
       "         city name      Lat       Lng  MaxTemp  Humidity  Cloudiness  \\\n",
       "0           ixtapa  20.7000 -105.2000    78.80        53           1   \n",
       "1           hasaki  35.7333  140.8333    28.40        68          20   \n",
       "2            jiazi  22.8779  116.0670    55.51        88           3   \n",
       "3           atuona  -9.8000 -139.0333    78.78        78          19   \n",
       "4    berdigestyakh  62.0989  126.6992   -50.01        76          67   \n",
       "..             ...      ...       ...      ...       ...         ...   \n",
       "575        marfino  55.7028   37.3822    27.00        80          90   \n",
       "576         umarga  17.8333   76.6167    72.14        44           0   \n",
       "577         jieshi  22.8134  115.8257    56.55        85           1   \n",
       "578         pangoa -12.1167  -73.0000    81.84        66          49   \n",
       "579           poum -20.2333  164.0167    77.94        75          26   \n",
       "\n",
       "     WindSpeed        Date country  \n",
       "0         4.61  1612032599      MX  \n",
       "1         3.44  1612032599      JP  \n",
       "2        11.56  1612032599      CN  \n",
       "3        16.11  1612032600      PF  \n",
       "4         1.19  1612032600      RU  \n",
       "..         ...         ...     ...  \n",
       "575       8.95  1612032708      RU  \n",
       "576       8.14  1612032708      IN  \n",
       "577      13.38  1612032708      CN  \n",
       "578       1.16  1612032709      PE  \n",
       "579      16.37  1612032709      NC  \n",
       "\n",
       "[580 rows x 9 columns]"
      ]
     },
     "execution_count": 7,
     "metadata": {},
     "output_type": "execute_result"
    }
   ],
   "source": [
    "#Visual\n",
    "weather_dataframe"
   ]
  },
  {
   "cell_type": "code",
   "execution_count": 49,
   "metadata": {},
   "outputs": [
    {
     "name": "stdout",
     "output_type": "stream",
     "text": [
      "The r-squared is: 0.5824484216543031\n"
     ]
    },
    {
     "data": {
      "image/png": "[encoded data removed]",
      "text/plain": [
       "<Figure size 432x288 with 1 Axes>"
      ]
     },
     "metadata": {
      "needs_background": "light"
     },
     "output_type": "display_data"
    },
    {
     "data": {
      "text/plain": [
       "<Figure size 432x288 with 0 Axes>"
      ]
     },
     "metadata": {},
     "output_type": "display_data"
    }
   ],
   "source": [
    "# The following plot is measuring the the temperature on the x axis \n",
    "# and the Latitude on the y axis, there seems to be somewhat of a relation between the two vairables with .58 as the r^2\n",
    "x_values = weather_dataframe['MaxTemp']\n",
    "y_values = weather_dataframe['Lat']\n",
    "(slope, intercept, rvalue, pvalue, stderr) = linregress(x_values, y_values)\n",
    "regress_values = x_values * slope + intercept\n",
    "line_eq = \"y = \" + str(round(slope,2)) + \"x + \" + str(round(intercept,2))\n",
    "plt.scatter(x_values,y_values)\n",
    "plt.plot(x_values,regress_values,\"r-\")\n",
    "plt.annotate(line_eq,(6,10),fontsize=15,color=\"red\")\n",
    "plt.xlabel('MaxTemp')\n",
    "plt.ylabel('Lat')\n",
    "print(f\"The r-squared is: {rvalue**2}\")\n",
    "plt.title(\"Temp v Lat\")\n",
    "plt.show()  \n",
    "plt.savefig(\"MaxTemp.png\")\n"
   ]
  },
  {
   "cell_type": "code",
   "execution_count": 50,
   "metadata": {},
   "outputs": [
    {
     "name": "stdout",
     "output_type": "stream",
     "text": [
      "The r-squared is: 0.02104634876281089\n"
     ]
    },
    {
     "data": {
      "image/png": "[encoded data removed]",
      "text/plain": [
       "<Figure size 432x288 with 1 Axes>"
      ]
     },
     "metadata": {
      "needs_background": "light"
     },
     "output_type": "display_data"
    },
    {
     "data": {
      "text/plain": [
       "<Figure size 432x288 with 0 Axes>"
      ]
     },
     "metadata": {},
     "output_type": "display_data"
    }
   ],
   "source": [
    "# The following plot is measuring the relation between humidity and latitude, of which there seems to be little\n",
    "x_values = weather_dataframe['Humidity']\n",
    "y_values = weather_dataframe['Lat'] \n",
    "(slope, intercept, rvalue, pvalue, stderr) = linregress(x_values, y_values)\n",
    "regress_values = x_values * slope + intercept\n",
    "line_eq = \"y = \" + str(round(slope,2)) + \"x + \" + str(round(intercept,2))\n",
    "plt.scatter(x_values,y_values)\n",
    "plt.plot(x_values,regress_values,\"r-\")\n",
    "plt.annotate(line_eq,(6,10),fontsize=15,color=\"red\")\n",
    "plt.xlabel('Humidity')\n",
    "plt.ylabel('Lat')\n",
    "print(f\"The r-squared is: {rvalue**2}\")\n",
    "plt.title(\"Humidity v Lat\")\n",
    "plt.show() \n",
    "plt.savefig(\"Humidity.png\")"
   ]
  },
  {
   "cell_type": "code",
   "execution_count": 51,
   "metadata": {},
   "outputs": [
    {
     "name": "stdout",
     "output_type": "stream",
     "text": [
      "The r-squared is: 0.011583499328759942\n"
     ]
    },
    {
     "data": {
      "image/png": "[encoded data removed]",
      "text/plain": [
       "<Figure size 432x288 with 1 Axes>"
      ]
     },
     "metadata": {
      "needs_background": "light"
     },
     "output_type": "display_data"
    },
    {
     "data": {
      "text/plain": [
       "<Figure size 432x288 with 0 Axes>"
      ]
     },
     "metadata": {},
     "output_type": "display_data"
    }
   ],
   "source": [
    "# The following shows the relation of Cloudniness and Latitude, at there seems to be lttile\n",
    "x_values = weather_dataframe['Cloudiness']\n",
    "y_values = weather_dataframe['Lat'] \n",
    "(slope, intercept, rvalue, pvalue, stderr) = linregress(x_values, y_values)\n",
    "regress_values = x_values * slope + intercept\n",
    "line_eq = \"y = \" + str(round(slope,2)) + \"x + \" + str(round(intercept,2))\n",
    "plt.scatter(x_values,y_values)\n",
    "plt.plot(x_values,regress_values,\"r-\")\n",
    "plt.annotate(line_eq,(6,10),fontsize=15,color=\"red\")\n",
    "plt.xlabel('Lat')\n",
    "plt.ylabel('Lat')\n",
    "print(f\"The r-squared is: {rvalue**2}\")\n",
    "plt.title(\"Cloudiness v Lat\")\n",
    "plt.show() \n",
    "plt.savefig(\"Cloudiness.png\")"
   ]
  },
  {
   "cell_type": "code",
   "execution_count": 52,
   "metadata": {},
   "outputs": [
    {
     "name": "stdout",
     "output_type": "stream",
     "text": [
      "The r-squared is: 0.0012328657683604771\n"
     ]
    },
    {
     "data": {
      "image/png": "[encoded data removed]",
      "text/plain": [
       "<Figure size 432x288 with 1 Axes>"
      ]
     },
     "metadata": {
      "needs_background": "light"
     },
     "output_type": "display_data"
    },
    {
     "data": {
      "text/plain": [
       "<Figure size 432x288 with 0 Axes>"
      ]
     },
     "metadata": {},
     "output_type": "display_data"
    }
   ],
   "source": [
    "# The following graphy shows the relation between Wind Speed and Lat, of which there is little\n",
    "x_values = weather_dataframe['WindSpeed']\n",
    "y_values = weather_dataframe['Lat'] \n",
    "(slope, intercept, rvalue, pvalue, stderr) = linregress(x_values, y_values)\n",
    "regress_values = x_values * slope + intercept\n",
    "line_eq = \"y = \" + str(round(slope,2)) + \"x + \" + str(round(intercept,2))\n",
    "plt.scatter(x_values,y_values)\n",
    "plt.plot(x_values,regress_values,\"r-\")\n",
    "plt.annotate(line_eq,(6,10),fontsize=15,color=\"red\")\n",
    "plt.xlabel('WindSpeed')\n",
    "plt.ylabel('Lat')\n",
    "print(f\"The r-squared is: {rvalue**2}\")\n",
    "plt.title(\"WindSpeed v Lat\")\n",
    "plt.show() \n",
    "plt.savefig(\"WindSpeed.png\")"
   ]
  },
  {
   "cell_type": "code",
   "execution_count": 12,
   "metadata": {},
   "outputs": [],
   "source": [
    "# North and South Dataframes\n",
    "NorthHemishphere = weather_dataframe.loc[weather_dataframe['Lat'] >= 0]\n",
    "SouthHemisphere = weather_dataframe.loc[weather_dataframe['Lat'] <= 0]"
   ]
  },
  {
   "cell_type": "code",
   "execution_count": 13,
   "metadata": {},
   "outputs": [],
   "source": [
    "#North Hemisphere Temp\n",
    "x_values = NorthHemishphere['MaxTemp']\n",
    "y_values = NorthHemishphere['Lat']"
   ]
  },
  {
   "cell_type": "code",
   "execution_count": 53,
   "metadata": {},
   "outputs": [
    {
     "name": "stdout",
     "output_type": "stream",
     "text": [
      "The r-squared is: 0.0012328657683604771\n"
     ]
    },
    {
     "data": {
      "image/png": "[encoded data removed]",
      "text/plain": [
       "<Figure size 432x288 with 1 Axes>"
      ]
     },
     "metadata": {
      "needs_background": "light"
     },
     "output_type": "display_data"
    },
    {
     "data": {
      "text/plain": [
       "<Figure size 432x288 with 0 Axes>"
      ]
     },
     "metadata": {},
     "output_type": "display_data"
    }
   ],
   "source": [
    "#Little to no assoication because r^2 is low\n",
    "(slope, intercept, rvalue, pvalue, stderr) = linregress(x_values, y_values)\n",
    "regress_values = x_values * slope + intercept\n",
    "line_eq = \"y = \" + str(round(slope,2)) + \"x + \" + str(round(intercept,2))\n",
    "plt.scatter(x_values,y_values)\n",
    "plt.plot(x_values,regress_values,\"r-\")\n",
    "plt.annotate(line_eq,(6,10),fontsize=15,color=\"red\")\n",
    "plt.xlabel('MaxTemp')\n",
    "plt.ylabel('Lat')\n",
    "print(f\"The r-squared is: {rvalue**2}\")\n",
    "plt.title(\"NH Temp v Lat\")\n",
    "plt.show()  \n",
    "plt.savefig(\"NHMaxTemp.png\")"
   ]
  },
  {
   "cell_type": "code",
   "execution_count": 54,
   "metadata": {},
   "outputs": [
    {
     "name": "stdout",
     "output_type": "stream",
     "text": [
      "The r-squared is: 0.2672627642143307\n"
     ]
    },
    {
     "data": {
      "image/png": "[encoded data removed]",
      "text/plain": [
       "<Figure size 432x288 with 1 Axes>"
      ]
     },
     "metadata": {
      "needs_background": "light"
     },
     "output_type": "display_data"
    },
    {
     "data": {
      "text/plain": [
       "<Figure size 432x288 with 0 Axes>"
      ]
     },
     "metadata": {},
     "output_type": "display_data"
    }
   ],
   "source": [
    "#South Hemisphere Temp, Low association as well because r^2 is low\n",
    "x_values = SouthHemisphere['MaxTemp']\n",
    "y_values = SouthHemisphere['Lat']\n",
    "(slope, intercept, rvalue, pvalue, stderr) = linregress(x_values, y_values)\n",
    "regress_values = x_values * slope + intercept\n",
    "line_eq = \"y = \" + str(round(slope,2)) + \"x + \" + str(round(intercept,2))\n",
    "plt.scatter(x_values,y_values)\n",
    "plt.plot(x_values,regress_values,\"r-\")\n",
    "plt.annotate(line_eq,(6,10),fontsize=15,color=\"red\")\n",
    "plt.xlabel('MaxTemp')\n",
    "plt.ylabel('Lat')\n",
    "print(f\"The r-squared is: {rvalue**2}\")\n",
    "plt.title(\"SH Temp v Lat\")\n",
    "plt.show()  \n",
    "plt.savefig(\"SHMaxTemp.png\")"
   ]
  },
  {
   "cell_type": "code",
   "execution_count": 55,
   "metadata": {},
   "outputs": [
    {
     "name": "stdout",
     "output_type": "stream",
     "text": [
      "The r-squared is: 0.15246003510564957\n"
     ]
    },
    {
     "data": {
      "image/png": "[encoded data removed]",
      "text/plain": [
       "<Figure size 432x288 with 1 Axes>"
      ]
     },
     "metadata": {
      "needs_background": "light"
     },
     "output_type": "display_data"
    },
    {
     "data": {
      "text/plain": [
       "<Figure size 432x288 with 0 Axes>"
      ]
     },
     "metadata": {},
     "output_type": "display_data"
    }
   ],
   "source": [
    "# North Hemisphere Humidity, low assoication because r^2 is low between the values\n",
    "x_values =  NorthHemishphere['Humidity']\n",
    "y_values = NorthHemishphere['Lat']\n",
    "(slope, intercept, rvalue, pvalue, stderr) = linregress(x_values, y_values)\n",
    "regress_values = x_values * slope + intercept\n",
    "line_eq = \"y = \" + str(round(slope,2)) + \"x + \" + str(round(intercept,2))\n",
    "plt.scatter(x_values,y_values)\n",
    "plt.plot(x_values,regress_values,\"r-\")\n",
    "plt.annotate(line_eq,(6,10),fontsize=15,color=\"red\")\n",
    "plt.xlabel('Humidity')\n",
    "plt.ylabel('Lat')\n",
    "print(f\"The r-squared is: {rvalue**2}\")\n",
    "plt.title(\"NH Humidity v Lat\")\n",
    "plt.show()  \n",
    "plt.savefig(\"NHHumidity.png\")"
   ]
  },
  {
   "cell_type": "code",
   "execution_count": 56,
   "metadata": {},
   "outputs": [
    {
     "name": "stdout",
     "output_type": "stream",
     "text": [
      "The r-squared is: 0.01971132109875153\n"
     ]
    },
    {
     "data": {
      "image/png": "[encoded data removed]",
      "text/plain": [
       "<Figure size 432x288 with 1 Axes>"
      ]
     },
     "metadata": {
      "needs_background": "light"
     },
     "output_type": "display_data"
    },
    {
     "data": {
      "text/plain": [
       "<Figure size 432x288 with 0 Axes>"
      ]
     },
     "metadata": {},
     "output_type": "display_data"
    }
   ],
   "source": [
    "#South Hemisphere Humidity, very low association due to low r^2\n",
    "x_values =  SouthHemisphere['Humidity']\n",
    "y_values = SouthHemisphere['Lat']\n",
    "(slope, intercept, rvalue, pvalue, stderr) = linregress(x_values, y_values)\n",
    "regress_values = x_values * slope + intercept\n",
    "line_eq = \"y = \" + str(round(slope,2)) + \"x + \" + str(round(intercept,2))\n",
    "plt.scatter(x_values,y_values)\n",
    "plt.plot(x_values,regress_values,\"r-\")\n",
    "plt.annotate(line_eq,(6,10),fontsize=15,color=\"red\")\n",
    "plt.xlabel('Humidity')\n",
    "plt.ylabel('Lat')\n",
    "print(f\"The r-squared is: {rvalue**2}\")\n",
    "plt.title(\"SH Humidity v Lat\")\n",
    "plt.show() \n",
    "plt.savefig(\"SHHumidity.png\")"
   ]
  },
  {
   "cell_type": "code",
   "execution_count": 57,
   "metadata": {},
   "outputs": [
    {
     "name": "stdout",
     "output_type": "stream",
     "text": [
      "The r-squared is: 0.07308875385714794\n"
     ]
    },
    {
     "data": {
      "image/png": "[encoded data removed]",
      "text/plain": [
       "<Figure size 432x288 with 1 Axes>"
      ]
     },
     "metadata": {
      "needs_background": "light"
     },
     "output_type": "display_data"
    },
    {
     "data": {
      "text/plain": [
       "<Figure size 432x288 with 0 Axes>"
      ]
     },
     "metadata": {},
     "output_type": "display_data"
    }
   ],
   "source": [
    "#North Hemisphere Cloudiness, low r^2 so low association between variables\n",
    "x_values =  NorthHemishphere['Cloudiness']\n",
    "y_values = NorthHemishphere['Lat']\n",
    "(slope, intercept, rvalue, pvalue, stderr) = linregress(x_values, y_values)\n",
    "regress_values = x_values * slope + intercept\n",
    "line_eq = \"y = \" + str(round(slope,2)) + \"x + \" + str(round(intercept,2))\n",
    "plt.scatter(x_values,y_values)\n",
    "plt.plot(x_values,regress_values,\"r-\")\n",
    "plt.annotate(line_eq,(6,10),fontsize=15,color=\"red\")\n",
    "plt.xlabel('Humidity')\n",
    "plt.ylabel('Lat')\n",
    "print(f\"The r-squared is: {rvalue**2}\")\n",
    "plt.title(\"NH Cloudiness v Lat\")\n",
    "plt.show()  \n",
    "plt.savefig(\"NHCloudiness.png\")"
   ]
  },
  {
   "cell_type": "code",
   "execution_count": 58,
   "metadata": {},
   "outputs": [
    {
     "name": "stdout",
     "output_type": "stream",
     "text": [
      "The r-squared is: 0.10969559162246557\n"
     ]
    },
    {
     "data": {
      "image/png": "[encoded data removed]",
      "text/plain": [
       "<Figure size 432x288 with 1 Axes>"
      ]
     },
     "metadata": {
      "needs_background": "light"
     },
     "output_type": "display_data"
    },
    {
     "data": {
      "text/plain": [
       "<Figure size 432x288 with 0 Axes>"
      ]
     },
     "metadata": {},
     "output_type": "display_data"
    }
   ],
   "source": [
    "#South Hemisphere Cloudiness, low assoication and low r^2\n",
    "x_values =  SouthHemisphere['Cloudiness']\n",
    "y_values = SouthHemisphere['Lat']\n",
    "(slope, intercept, rvalue, pvalue, stderr) = linregress(x_values, y_values)\n",
    "regress_values = x_values * slope + intercept\n",
    "line_eq = \"y = \" + str(round(slope,2)) + \"x + \" + str(round(intercept,2))\n",
    "plt.scatter(x_values,y_values)\n",
    "plt.plot(x_values,regress_values,\"r-\")\n",
    "plt.annotate(line_eq,(6,10),fontsize=15,color=\"red\")\n",
    "plt.xlabel('Humidity')\n",
    "plt.ylabel('Lat')\n",
    "print(f\"The r-squared is: {rvalue**2}\")\n",
    "plt.title(\"SH Cloudiness v Lat\")\n",
    "plt.show() \n",
    "plt.savefig(\"SHCloudiness.png\")"
   ]
  },
  {
   "cell_type": "code",
   "execution_count": 59,
   "metadata": {},
   "outputs": [
    {
     "name": "stdout",
     "output_type": "stream",
     "text": [
      "The r-squared is: 0.0007595791415832382\n"
     ]
    },
    {
     "data": {
      "image/png": "[encoded data removed]",
      "text/plain": [
       "<Figure size 432x288 with 1 Axes>"
      ]
     },
     "metadata": {
      "needs_background": "light"
     },
     "output_type": "display_data"
    },
    {
     "data": {
      "text/plain": [
       "<Figure size 432x288 with 0 Axes>"
      ]
     },
     "metadata": {},
     "output_type": "display_data"
    }
   ],
   "source": [
    "#North Hemisphere Wind Speed, very low association between variables\n",
    "x_values =  NorthHemishphere['WindSpeed']\n",
    "y_values = NorthHemishphere['Lat']\n",
    "(slope, intercept, rvalue, pvalue, stderr) = linregress(x_values, y_values)\n",
    "regress_values = x_values * slope + intercept\n",
    "line_eq = \"y = \" + str(round(slope,2)) + \"x + \" + str(round(intercept,2))\n",
    "plt.scatter(x_values,y_values)\n",
    "plt.plot(x_values,regress_values,\"r-\")\n",
    "plt.annotate(line_eq,(6,10),fontsize=15,color=\"red\")\n",
    "plt.xlabel('Wind Speed')\n",
    "plt.ylabel('Lat')\n",
    "print(f\"The r-squared is: {rvalue**2}\")\n",
    "plt.title(\"NH WindSpeed v Lat\")\n",
    "plt.show()  \n",
    "plt.savefig(\"NHwindspeed.png\")"
   ]
  },
  {
   "cell_type": "code",
   "execution_count": 61,
   "metadata": {},
   "outputs": [
    {
     "name": "stdout",
     "output_type": "stream",
     "text": [
      "The r-squared is: 0.00954672431303795\n"
     ]
    },
    {
     "data": {
      "image/png": "[encoded data removed]",
      "text/plain": [
       "<Figure size 432x288 with 1 Axes>"
      ]
     },
     "metadata": {
      "needs_background": "light"
     },
     "output_type": "display_data"
    },
    {
     "data": {
      "text/plain": [
       "<Figure size 432x288 with 0 Axes>"
      ]
     },
     "metadata": {},
     "output_type": "display_data"
    }
   ],
   "source": [
    "#South Hemisphere Wind Speed,low association\n",
    "x_values =  SouthHemisphere['WindSpeed']\n",
    "y_values = SouthHemisphere['Lat']\n",
    "(slope, intercept, rvalue, pvalue, stderr) = linregress(x_values, y_values)\n",
    "regress_values = x_values * slope + intercept\n",
    "line_eq = \"y = \" + str(round(slope,2)) + \"x + \" + str(round(intercept,2))\n",
    "plt.scatter(x_values,y_values)\n",
    "plt.plot(x_values,regress_values,\"r-\")\n",
    "plt.annotate(line_eq,(6,10),fontsize=15,color=\"red\")\n",
    "plt.xlabel('Wind Speed')\n",
    "plt.ylabel('Lat')\n",
    "print(f\"The r-squared is: {rvalue**2}\")\n",
    "plt.title(\"SH WindSpeed v Lat\")\n",
    "plt.show() \n",
    "plt.savefig(\"SHwindspeed.png\")"
   ]
  },
  {
   "cell_type": "code",
   "execution_count": null,
   "metadata": {},
   "outputs": [],
   "source": []
  },
  {
   "cell_type": "code",
   "execution_count": null,
   "metadata": {},
   "outputs": [],
   "source": []
  },
  {
   "cell_type": "code",
   "execution_count": null,
   "metadata": {},
   "outputs": [],
   "source": []
  }
 ],
 "metadata": {
  "kernelspec": {
   "display_name": "Python 3",
   "language": "python",
   "name": "python3"
  },
  "language_info": {
   "codemirror_mode": {
    "name": "ipython",
    "version": 3
   },
   "file_extension": ".py",
   "mimetype": "text/x-python",
   "name": "python",
   "nbconvert_exporter": "python",
   "pygments_lexer": "ipython3",
   "version": "3.8.3"
  }
 },
 "nbformat": 4,
 "nbformat_minor": 4
}
